{
  "nbformat": 4,
  "nbformat_minor": 0,
  "metadata": {
    "colab": {
      "provenance": [],
      "authorship_tag": "ABX9TyO5xtscMtAHfBbjSLS3o5OU",
      "include_colab_link": true
    },
    "kernelspec": {
      "name": "python3",
      "display_name": "Python 3"
    },
    "language_info": {
      "name": "python"
    }
  },
  "cells": [
    {
      "cell_type": "markdown",
      "metadata": {
        "id": "view-in-github",
        "colab_type": "text"
      },
      "source": [
        "<a href=\"https://colab.research.google.com/github/robinsonmirandaco/vision-artificial-mejora-imagenes/blob/main/procesamientoDeImagenes.ipynb\" target=\"_parent\"><img src=\"https://colab.research.google.com/assets/colab-badge.svg\" alt=\"Open In Colab\"/></a>"
      ]
    },
    {
      "cell_type": "markdown",
      "source": [
        "# Mejora de Imagen en Condiciones de Baja Iluminación\n",
        "### Visión Artificial - Máster en Inteligencia Artificial (UNIR)\n",
        "### Alumno: Robinson J. Miranda Pérez\n",
        "### Fecha: 5 de mayo de 2025"
      ],
      "metadata": {
        "id": "iVQ1_TqTBhBb"
      }
    },
    {
      "cell_type": "markdown",
      "source": [
        "# 1. Instalación de librerías necesarias:"
      ],
      "metadata": {
        "id": "KMENwEnj2td-"
      }
    },
    {
      "cell_type": "code",
      "execution_count": null,
      "metadata": {
        "colab": {
          "base_uri": "https://localhost:8080/"
        },
        "id": "6oi0MfS72oDi",
        "outputId": "42e9fc10-6d1d-4181-95b1-1f871173d211"
      },
      "outputs": [
        {
          "output_type": "stream",
          "name": "stdout",
          "text": [
            "Requirement already satisfied: opencv-python-headless in /usr/local/lib/python3.11/dist-packages (4.11.0.86)\n",
            "Requirement already satisfied: numpy>=1.21.2 in /usr/local/lib/python3.11/dist-packages (from opencv-python-headless) (2.0.2)\n",
            "Requirement already satisfied: matplotlib in /usr/local/lib/python3.11/dist-packages (3.10.0)\n",
            "Requirement already satisfied: contourpy>=1.0.1 in /usr/local/lib/python3.11/dist-packages (from matplotlib) (1.3.2)\n",
            "Requirement already satisfied: cycler>=0.10 in /usr/local/lib/python3.11/dist-packages (from matplotlib) (0.12.1)\n",
            "Requirement already satisfied: fonttools>=4.22.0 in /usr/local/lib/python3.11/dist-packages (from matplotlib) (4.57.0)\n",
            "Requirement already satisfied: kiwisolver>=1.3.1 in /usr/local/lib/python3.11/dist-packages (from matplotlib) (1.4.8)\n",
            "Requirement already satisfied: numpy>=1.23 in /usr/local/lib/python3.11/dist-packages (from matplotlib) (2.0.2)\n",
            "Requirement already satisfied: packaging>=20.0 in /usr/local/lib/python3.11/dist-packages (from matplotlib) (24.2)\n",
            "Requirement already satisfied: pillow>=8 in /usr/local/lib/python3.11/dist-packages (from matplotlib) (11.2.1)\n",
            "Requirement already satisfied: pyparsing>=2.3.1 in /usr/local/lib/python3.11/dist-packages (from matplotlib) (3.2.3)\n",
            "Requirement already satisfied: python-dateutil>=2.7 in /usr/local/lib/python3.11/dist-packages (from matplotlib) (2.9.0.post0)\n",
            "Requirement already satisfied: six>=1.5 in /usr/local/lib/python3.11/dist-packages (from python-dateutil>=2.7->matplotlib) (1.17.0)\n"
          ]
        }
      ],
      "source": [
        "# Solo necesario si alguna no está instalada\n",
        "!pip install opencv-python-headless\n",
        "!pip install matplotlib"
      ]
    },
    {
      "cell_type": "markdown",
      "source": [
        "# 2. Se Importan librerias:"
      ],
      "metadata": {
        "id": "QMMDhM2H2-kg"
      }
    },
    {
      "cell_type": "code",
      "source": [
        "import cv2\n",
        "import numpy as np\n",
        "import matplotlib.pyplot as plt\n",
        "import os\n",
        "from google.colab import files"
      ],
      "metadata": {
        "id": "gCX4ysZM3M6h"
      },
      "execution_count": null,
      "outputs": []
    },
    {
      "cell_type": "markdown",
      "source": [
        "# 3. Se crean carpetas para guardar resultados:"
      ],
      "metadata": {
        "id": "_o4RAsye3UFo"
      }
    },
    {
      "cell_type": "code",
      "source": [
        "# Crear carpetas para guardar imágenes procesadas\n",
        "os.makedirs('procesadas', exist_ok=True)\n",
        "os.makedirs('histogramas', exist_ok=True)"
      ],
      "metadata": {
        "id": "p0oswErp3YWV"
      },
      "execution_count": null,
      "outputs": []
    },
    {
      "cell_type": "markdown",
      "source": [
        "# 4. Se suben imágenes desde el pc"
      ],
      "metadata": {
        "id": "l-QhzdE13eiT"
      }
    },
    {
      "cell_type": "code",
      "source": [
        "# Subir las imágenes originales\n",
        "uploaded = files.upload()"
      ],
      "metadata": {
        "colab": {
          "base_uri": "https://localhost:8080/",
          "height": 177
        },
        "id": "YQf9Yj4z3mP9",
        "outputId": "50b4b1ab-d66c-4af1-e5c3-24e436eb8ea2"
      },
      "execution_count": null,
      "outputs": [
        {
          "output_type": "display_data",
          "data": {
            "text/plain": [
              "<IPython.core.display.HTML object>"
            ],
            "text/html": [
              "\n",
              "     <input type=\"file\" id=\"files-05f68a4b-0b85-4c29-90d4-09925e232ebb\" name=\"files[]\" multiple disabled\n",
              "        style=\"border:none\" />\n",
              "     <output id=\"result-05f68a4b-0b85-4c29-90d4-09925e232ebb\">\n",
              "      Upload widget is only available when the cell has been executed in the\n",
              "      current browser session. Please rerun this cell to enable.\n",
              "      </output>\n",
              "      <script>// Copyright 2017 Google LLC\n",
              "//\n",
              "// Licensed under the Apache License, Version 2.0 (the \"License\");\n",
              "// you may not use this file except in compliance with the License.\n",
              "// You may obtain a copy of the License at\n",
              "//\n",
              "//      http://www.apache.org/licenses/LICENSE-2.0\n",
              "//\n",
              "// Unless required by applicable law or agreed to in writing, software\n",
              "// distributed under the License is distributed on an \"AS IS\" BASIS,\n",
              "// WITHOUT WARRANTIES OR CONDITIONS OF ANY KIND, either express or implied.\n",
              "// See the License for the specific language governing permissions and\n",
              "// limitations under the License.\n",
              "\n",
              "/**\n",
              " * @fileoverview Helpers for google.colab Python module.\n",
              " */\n",
              "(function(scope) {\n",
              "function span(text, styleAttributes = {}) {\n",
              "  const element = document.createElement('span');\n",
              "  element.textContent = text;\n",
              "  for (const key of Object.keys(styleAttributes)) {\n",
              "    element.style[key] = styleAttributes[key];\n",
              "  }\n",
              "  return element;\n",
              "}\n",
              "\n",
              "// Max number of bytes which will be uploaded at a time.\n",
              "const MAX_PAYLOAD_SIZE = 100 * 1024;\n",
              "\n",
              "function _uploadFiles(inputId, outputId) {\n",
              "  const steps = uploadFilesStep(inputId, outputId);\n",
              "  const outputElement = document.getElementById(outputId);\n",
              "  // Cache steps on the outputElement to make it available for the next call\n",
              "  // to uploadFilesContinue from Python.\n",
              "  outputElement.steps = steps;\n",
              "\n",
              "  return _uploadFilesContinue(outputId);\n",
              "}\n",
              "\n",
              "// This is roughly an async generator (not supported in the browser yet),\n",
              "// where there are multiple asynchronous steps and the Python side is going\n",
              "// to poll for completion of each step.\n",
              "// This uses a Promise to block the python side on completion of each step,\n",
              "// then passes the result of the previous step as the input to the next step.\n",
              "function _uploadFilesContinue(outputId) {\n",
              "  const outputElement = document.getElementById(outputId);\n",
              "  const steps = outputElement.steps;\n",
              "\n",
              "  const next = steps.next(outputElement.lastPromiseValue);\n",
              "  return Promise.resolve(next.value.promise).then((value) => {\n",
              "    // Cache the last promise value to make it available to the next\n",
              "    // step of the generator.\n",
              "    outputElement.lastPromiseValue = value;\n",
              "    return next.value.response;\n",
              "  });\n",
              "}\n",
              "\n",
              "/**\n",
              " * Generator function which is called between each async step of the upload\n",
              " * process.\n",
              " * @param {string} inputId Element ID of the input file picker element.\n",
              " * @param {string} outputId Element ID of the output display.\n",
              " * @return {!Iterable<!Object>} Iterable of next steps.\n",
              " */\n",
              "function* uploadFilesStep(inputId, outputId) {\n",
              "  const inputElement = document.getElementById(inputId);\n",
              "  inputElement.disabled = false;\n",
              "\n",
              "  const outputElement = document.getElementById(outputId);\n",
              "  outputElement.innerHTML = '';\n",
              "\n",
              "  const pickedPromise = new Promise((resolve) => {\n",
              "    inputElement.addEventListener('change', (e) => {\n",
              "      resolve(e.target.files);\n",
              "    });\n",
              "  });\n",
              "\n",
              "  const cancel = document.createElement('button');\n",
              "  inputElement.parentElement.appendChild(cancel);\n",
              "  cancel.textContent = 'Cancel upload';\n",
              "  const cancelPromise = new Promise((resolve) => {\n",
              "    cancel.onclick = () => {\n",
              "      resolve(null);\n",
              "    };\n",
              "  });\n",
              "\n",
              "  // Wait for the user to pick the files.\n",
              "  const files = yield {\n",
              "    promise: Promise.race([pickedPromise, cancelPromise]),\n",
              "    response: {\n",
              "      action: 'starting',\n",
              "    }\n",
              "  };\n",
              "\n",
              "  cancel.remove();\n",
              "\n",
              "  // Disable the input element since further picks are not allowed.\n",
              "  inputElement.disabled = true;\n",
              "\n",
              "  if (!files) {\n",
              "    return {\n",
              "      response: {\n",
              "        action: 'complete',\n",
              "      }\n",
              "    };\n",
              "  }\n",
              "\n",
              "  for (const file of files) {\n",
              "    const li = document.createElement('li');\n",
              "    li.append(span(file.name, {fontWeight: 'bold'}));\n",
              "    li.append(span(\n",
              "        `(${file.type || 'n/a'}) - ${file.size} bytes, ` +\n",
              "        `last modified: ${\n",
              "            file.lastModifiedDate ? file.lastModifiedDate.toLocaleDateString() :\n",
              "                                    'n/a'} - `));\n",
              "    const percent = span('0% done');\n",
              "    li.appendChild(percent);\n",
              "\n",
              "    outputElement.appendChild(li);\n",
              "\n",
              "    const fileDataPromise = new Promise((resolve) => {\n",
              "      const reader = new FileReader();\n",
              "      reader.onload = (e) => {\n",
              "        resolve(e.target.result);\n",
              "      };\n",
              "      reader.readAsArrayBuffer(file);\n",
              "    });\n",
              "    // Wait for the data to be ready.\n",
              "    let fileData = yield {\n",
              "      promise: fileDataPromise,\n",
              "      response: {\n",
              "        action: 'continue',\n",
              "      }\n",
              "    };\n",
              "\n",
              "    // Use a chunked sending to avoid message size limits. See b/62115660.\n",
              "    let position = 0;\n",
              "    do {\n",
              "      const length = Math.min(fileData.byteLength - position, MAX_PAYLOAD_SIZE);\n",
              "      const chunk = new Uint8Array(fileData, position, length);\n",
              "      position += length;\n",
              "\n",
              "      const base64 = btoa(String.fromCharCode.apply(null, chunk));\n",
              "      yield {\n",
              "        response: {\n",
              "          action: 'append',\n",
              "          file: file.name,\n",
              "          data: base64,\n",
              "        },\n",
              "      };\n",
              "\n",
              "      let percentDone = fileData.byteLength === 0 ?\n",
              "          100 :\n",
              "          Math.round((position / fileData.byteLength) * 100);\n",
              "      percent.textContent = `${percentDone}% done`;\n",
              "\n",
              "    } while (position < fileData.byteLength);\n",
              "  }\n",
              "\n",
              "  // All done.\n",
              "  yield {\n",
              "    response: {\n",
              "      action: 'complete',\n",
              "    }\n",
              "  };\n",
              "}\n",
              "\n",
              "scope.google = scope.google || {};\n",
              "scope.google.colab = scope.google.colab || {};\n",
              "scope.google.colab._files = {\n",
              "  _uploadFiles,\n",
              "  _uploadFilesContinue,\n",
              "};\n",
              "})(self);\n",
              "</script> "
            ]
          },
          "metadata": {}
        },
        {
          "output_type": "stream",
          "name": "stdout",
          "text": [
            "Saving 1.png to 1 (1).png\n",
            "Saving 1002.png to 1002 (1).png\n",
            "Saving 1013.png to 1013 (1).png\n",
            "Saving 1016.png to 1016 (1).png\n"
          ]
        }
      ]
    },
    {
      "cell_type": "markdown",
      "source": [
        "# 5. Funciones de procesamiento"
      ],
      "metadata": {
        "id": "ap3dzNcp3ysY"
      }
    },
    {
      "cell_type": "code",
      "source": [
        "# Función para aplicar transformación negativa\n",
        "def aplicar_negativo(img):\n",
        "    return 255 - img\n",
        "\n",
        "# Función para aplicar corrección gamma\n",
        "def aplicar_gamma(img, gamma=0.5):\n",
        "    invGamma = 1.0 / gamma\n",
        "    table = np.array([((i / 255.0) ** invGamma) * 255 for i in np.arange(0, 256)]).astype(\"uint8\")\n",
        "    return cv2.LUT(img, table)\n",
        "\n",
        "# Función para aplicar transformación logarítmica\n",
        "def aplicar_logaritmica(img):\n",
        "    c = 255 / np.log(1 + np.max(img))\n",
        "    log_image = c * (np.log(img + 1))\n",
        "    log_image = np.array(log_image, dtype=np.uint8)\n",
        "    return log_image\n",
        "\n",
        "# Función para expandir el contraste\n",
        "def expandir_contraste(img):\n",
        "    img_norm = cv2.normalize(img, None, alpha=0, beta=255, norm_type=cv2.NORM_MINMAX)\n",
        "    return img_norm\n",
        "\n",
        "# Función para ecualizar el histograma\n",
        "def ecualizar_histograma(img):\n",
        "    return cv2.equalizeHist(img)\n",
        "\n",
        "# Función para mostrar y guardar histogramas\n",
        "def guardar_histograma(img, nombre):\n",
        "    plt.figure()\n",
        "    plt.hist(img.ravel(), bins=256, range=[0,256])\n",
        "    plt.title(f\"Histograma de {nombre}\")\n",
        "    plt.xlabel(\"Intensidad de píxel\")\n",
        "    plt.ylabel(\"Frecuencia\")\n",
        "    plt.savefig(f\"histogramas/{nombre}_histograma.png\")\n",
        "    plt.close()"
      ],
      "metadata": {
        "id": "0wZspRzi32I9"
      },
      "execution_count": null,
      "outputs": []
    },
    {
      "cell_type": "markdown",
      "source": [
        "# 6. Procesar todas las imágenes\n",
        "\n",
        "- **Lee cada imagen** en escala de grises.\n",
        "\n",
        "- **Aplica**:\n",
        "\n",
        "  - Transformación negativa.\n",
        "\n",
        "  - Corrección gamma (γ = 0.5).\n",
        "\n",
        "  - Transformación logarítmica.\n",
        "\n",
        "  - Expansión de contraste.\n",
        "\n",
        "  - Ecualización de histograma.\n",
        "\n",
        "- **Guarda** cada imagen procesada en una carpeta llamada procesadas/.\n",
        "\n",
        "- **Genera** un histograma para cada imagen original y mejorada, guardándolo en histogramas/."
      ],
      "metadata": {
        "id": "IlRiKqbV4EgU"
      }
    },
    {
      "cell_type": "code",
      "source": [
        "# Lista de nombres de archivos que subiste\n",
        "imagenes = ['1.png', '1002.png', '1013.png', '1016.png']\n",
        "\n",
        "# Recorrer cada imagen\n",
        "for nombre_imagen in imagenes:\n",
        "    # Leer la imagen en escala de grises\n",
        "    img = cv2.imread(nombre_imagen, cv2.IMREAD_GRAYSCALE)\n",
        "\n",
        "    if img is None:\n",
        "        print(f\"Error cargando {nombre_imagen}\")\n",
        "        continue\n",
        "\n",
        "    # Guardar histograma original\n",
        "    guardar_histograma(img, f\"{nombre_imagen}_original\")\n",
        "\n",
        "    # Aplicar y guardar transformación negativa\n",
        "    negativo = aplicar_negativo(img)\n",
        "    cv2.imwrite(f'procesadas/{nombre_imagen}_negativo.png', negativo)\n",
        "    guardar_histograma(negativo, f\"{nombre_imagen}_negativo\")\n",
        "\n",
        "    # Aplicar y guardar corrección gamma\n",
        "    gamma = aplicar_gamma(img, gamma=0.5)\n",
        "    cv2.imwrite(f'procesadas/{nombre_imagen}_gamma.png', gamma)\n",
        "    guardar_histograma(gamma, f\"{nombre_imagen}_gamma\")\n",
        "\n",
        "    # Aplicar y guardar transformación logarítmica\n",
        "    logaritmica = aplicar_logaritmica(img)\n",
        "    cv2.imwrite(f'procesadas/{nombre_imagen}_logaritmica.png', logaritmica)\n",
        "    guardar_histograma(logaritmica, f\"{nombre_imagen}_logaritmica\")\n",
        "\n",
        "    # Aplicar y guardar expansión de contraste\n",
        "    contraste_expandido = expandir_contraste(img)\n",
        "    cv2.imwrite(f'procesadas/{nombre_imagen}_contraste_expandido.png', contraste_expandido)\n",
        "    guardar_histograma(contraste_expandido, f\"{nombre_imagen}_contraste_expandido\")\n",
        "\n",
        "    # Aplicar y guardar ecualización de histograma\n",
        "    ecualizada = ecualizar_histograma(img)\n",
        "    cv2.imwrite(f'procesadas/{nombre_imagen}_ecualizada.png', ecualizada)\n",
        "    guardar_histograma(ecualizada, f\"{nombre_imagen}_ecualizada\")\n",
        "\n",
        "    print(f\"Procesamiento de {nombre_imagen} completado.\")\n",
        "\n",
        "print(\"¡Todas las imágenes fueron procesadas exitosamente!\")"
      ],
      "metadata": {
        "colab": {
          "base_uri": "https://localhost:8080/"
        },
        "id": "6D6zDHvW4GAu",
        "outputId": "afd65cc6-2ac7-46bc-cbed-92a599f75744"
      },
      "execution_count": null,
      "outputs": [
        {
          "output_type": "stream",
          "name": "stderr",
          "text": [
            "<ipython-input-12-f2676fc8beaf>:13: RuntimeWarning: overflow encountered in scalar add\n",
            "  c = 255 / np.log(1 + np.max(img))\n",
            "<ipython-input-12-f2676fc8beaf>:13: RuntimeWarning: divide by zero encountered in log\n",
            "  c = 255 / np.log(1 + np.max(img))\n",
            "<ipython-input-12-f2676fc8beaf>:14: RuntimeWarning: divide by zero encountered in log\n",
            "  log_image = c * (np.log(img + 1))\n",
            "<ipython-input-12-f2676fc8beaf>:14: RuntimeWarning: invalid value encountered in multiply\n",
            "  log_image = c * (np.log(img + 1))\n",
            "<ipython-input-12-f2676fc8beaf>:15: RuntimeWarning: invalid value encountered in cast\n",
            "  log_image = np.array(log_image, dtype=np.uint8)\n"
          ]
        },
        {
          "output_type": "stream",
          "name": "stdout",
          "text": [
            "Procesamiento de 1.png completado.\n",
            "Procesamiento de 1002.png completado.\n",
            "Procesamiento de 1013.png completado.\n",
            "Procesamiento de 1016.png completado.\n",
            "¡Todas las imágenes fueron procesadas exitosamente!\n"
          ]
        }
      ]
    },
    {
      "cell_type": "markdown",
      "source": [
        "# 7. Carpeta para operaciones aritmeticas y calculos:"
      ],
      "metadata": {
        "id": "q4Ng8eTqOhti"
      }
    },
    {
      "cell_type": "code",
      "source": [
        "# Crear carpeta para guardar operaciones aritméticas si no existe\n",
        "os.makedirs('operaciones_aritmeticas', exist_ok=True)\n",
        "\n",
        "# Procesar operaciones de suma y resta para cada imagen\n",
        "for nombre_imagen in ['1.png', '1002.png', '1013.png', '1016.png']:\n",
        "    try:\n",
        "        # Cargar imágenes mejoradas\n",
        "        gamma = cv2.imread(f'procesadas/{nombre_imagen}_gamma.png', cv2.IMREAD_GRAYSCALE)\n",
        "        logaritmica = cv2.imread(f'procesadas/{nombre_imagen}_logaritmica.png', cv2.IMREAD_GRAYSCALE)\n",
        "\n",
        "        # Validar que se cargaron correctamente\n",
        "        if gamma is None or logaritmica is None:\n",
        "            print(f\"No se encontraron imágenes gamma o logarítmica para {nombre_imagen}\")\n",
        "            continue\n",
        "\n",
        "        # Operación de Suma (combinación)\n",
        "        suma = cv2.add(gamma, logaritmica)  # suma segura (saturada a 255)\n",
        "        cv2.imwrite(f'operaciones_aritmeticas/{nombre_imagen}_suma.png', suma)\n",
        "\n",
        "        # Operación de Resta (diferencias)\n",
        "        resta = cv2.absdiff(gamma, logaritmica)  # resta absoluta para ver diferencias\n",
        "        cv2.imwrite(f'operaciones_aritmeticas/{nombre_imagen}_resta.png', resta)\n",
        "\n",
        "        print(f\"Operaciones aritméticas realizadas para {nombre_imagen}\")\n",
        "\n",
        "    except Exception as e:\n",
        "        print(f\"Error procesando {nombre_imagen}: {e}\")\n"
      ],
      "metadata": {
        "colab": {
          "base_uri": "https://localhost:8080/",
          "height": 0
        },
        "id": "ahZRXBMWOrbw",
        "outputId": "9b7a3c18-0f32-49ea-b110-e7795479aae9"
      },
      "execution_count": 15,
      "outputs": [
        {
          "output_type": "stream",
          "name": "stdout",
          "text": [
            "Operaciones aritméticas realizadas para 1.png\n",
            "Operaciones aritméticas realizadas para 1002.png\n",
            "Operaciones aritméticas realizadas para 1013.png\n",
            "Operaciones aritméticas realizadas para 1016.png\n"
          ]
        }
      ]
    }
  ]
}